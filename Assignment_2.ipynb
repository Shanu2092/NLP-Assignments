{
  "nbformat": 4,
  "nbformat_minor": 0,
  "metadata": {
    "colab": {
      "provenance": [],
      "authorship_tag": "ABX9TyOno1bp1Ko6HRiFU7zi0PKB",
      "include_colab_link": true
    },
    "kernelspec": {
      "name": "python3",
      "display_name": "Python 3"
    },
    "language_info": {
      "name": "python"
    }
  },
  "cells": [
    {
      "cell_type": "markdown",
      "metadata": {
        "id": "view-in-github",
        "colab_type": "text"
      },
      "source": [
        "<a href=\"https://colab.research.google.com/github/Shanu2092/NLP-Assignments/blob/main/Assignment_2.ipynb\" target=\"_parent\"><img src=\"https://colab.research.google.com/assets/colab-badge.svg\" alt=\"Open In Colab\"/></a>"
      ]
    },
    {
      "cell_type": "markdown",
      "source": [
        "1. What are Corpora?\n",
        "2. What are Tokens?\n",
        "3. What are Unigrams, Bigrams, Trigrams?\n",
        "4. How to generate n-grams from text?\n",
        "5. Explain Lemmatization\n",
        "6. Explain Stemming\n",
        "7. Explain Part-of-speech (POS) tagging\n",
        "8. Explain Chunking or shallow parsing\n",
        "9. Explain Noun Phrase (NP) chunking\n",
        "10. Explain Named Entity Recognition"
      ],
      "metadata": {
        "id": "WAsy7PDlh7Ay"
      }
    }
  ]
}